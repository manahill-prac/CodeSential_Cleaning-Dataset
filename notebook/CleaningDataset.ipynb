{
  "nbformat": 4,
  "nbformat_minor": 0,
  "metadata": {
    "colab": {
      "provenance": []
    },
    "kernelspec": {
      "name": "python3",
      "display_name": "Python 3"
    },
    "language_info": {
      "name": "python"
    }
  },
  "cells": [
    {
      "cell_type": "markdown",
      "source": [
        "<h1 style=\"color:#2E86C1; text-align:center;\"> Data Cleaning on Titanic Dataset</h1>\n"
      ],
      "metadata": {
        "id": "xdgdoI0T03_e"
      }
    },
    {
      "cell_type": "markdown",
      "source": [
        "<h2 style=\"color:#117A65;\">🔹 Step 1: Import Libraries</h2>"
      ],
      "metadata": {
        "id": "Kf7UTTLc1WJ0"
      }
    },
    {
      "cell_type": "code",
      "source": [
        "import pandas as pd\n",
        "import numpy as np\n",
        "from IPython.display import display, HTML\n"
      ],
      "metadata": {
        "id": "t4wEay5Q04wx"
      },
      "execution_count": 2,
      "outputs": []
    },
    {
      "cell_type": "markdown",
      "source": [
        "<h2 style=\"color:#117A65;\">🔹 Step 2: Load Dataset</h2>"
      ],
      "metadata": {
        "id": "m04P7laI1fvt"
      }
    },
    {
      "cell_type": "code",
      "source": [
        "# Titanic dataset (Kaggle version hosted on GitHub or Drive)\n",
        "url = \"https://raw.githubusercontent.com/datasciencedojo/datasets/master/titanic.csv\"\n",
        "df = pd.read_csv(url)\n",
        "\n",
        "# Preview\n",
        "def style_table(df, bg_color=\"#20B2AA\"):\n",
        "    return df.style.set_table_styles(\n",
        "        [{'selector': 'th', 'props': [('background-color', bg_color),\n",
        "                                      ('color', 'white'),\n",
        "                                      ('border', '1px solid black'),\n",
        "                                      ('padding', '8px'),\n",
        "                                      ('font-weight', 'bold')]},\n",
        "         {'selector': 'td', 'props': [('border', '1px solid black'),\n",
        "                                      ('padding', '8px')]}]\n",
        "    ).set_properties(**{'text-align': 'center'})\n",
        "\n",
        "display(style_table(df.head()))\n"
      ],
      "metadata": {
        "colab": {
          "base_uri": "https://localhost:8080/",
          "height": 521
        },
        "id": "bIcXM3UF1H7R",
        "outputId": "cd0923e6-ddb8-436d-dbb2-8de1f131f45d"
      },
      "execution_count": 3,
      "outputs": [
        {
          "output_type": "display_data",
          "data": {
            "text/plain": [
              "<pandas.io.formats.style.Styler at 0x7d04c1dc9f40>"
            ],
            "text/html": [
              "<style type=\"text/css\">\n",
              "#T_812dc th {\n",
              "  background-color: #20B2AA;\n",
              "  color: white;\n",
              "  border: 1px solid black;\n",
              "  padding: 8px;\n",
              "  font-weight: bold;\n",
              "}\n",
              "#T_812dc td {\n",
              "  border: 1px solid black;\n",
              "  padding: 8px;\n",
              "}\n",
              "#T_812dc_row0_col0, #T_812dc_row0_col1, #T_812dc_row0_col2, #T_812dc_row0_col3, #T_812dc_row0_col4, #T_812dc_row0_col5, #T_812dc_row0_col6, #T_812dc_row0_col7, #T_812dc_row0_col8, #T_812dc_row0_col9, #T_812dc_row0_col10, #T_812dc_row0_col11, #T_812dc_row1_col0, #T_812dc_row1_col1, #T_812dc_row1_col2, #T_812dc_row1_col3, #T_812dc_row1_col4, #T_812dc_row1_col5, #T_812dc_row1_col6, #T_812dc_row1_col7, #T_812dc_row1_col8, #T_812dc_row1_col9, #T_812dc_row1_col10, #T_812dc_row1_col11, #T_812dc_row2_col0, #T_812dc_row2_col1, #T_812dc_row2_col2, #T_812dc_row2_col3, #T_812dc_row2_col4, #T_812dc_row2_col5, #T_812dc_row2_col6, #T_812dc_row2_col7, #T_812dc_row2_col8, #T_812dc_row2_col9, #T_812dc_row2_col10, #T_812dc_row2_col11, #T_812dc_row3_col0, #T_812dc_row3_col1, #T_812dc_row3_col2, #T_812dc_row3_col3, #T_812dc_row3_col4, #T_812dc_row3_col5, #T_812dc_row3_col6, #T_812dc_row3_col7, #T_812dc_row3_col8, #T_812dc_row3_col9, #T_812dc_row3_col10, #T_812dc_row3_col11, #T_812dc_row4_col0, #T_812dc_row4_col1, #T_812dc_row4_col2, #T_812dc_row4_col3, #T_812dc_row4_col4, #T_812dc_row4_col5, #T_812dc_row4_col6, #T_812dc_row4_col7, #T_812dc_row4_col8, #T_812dc_row4_col9, #T_812dc_row4_col10, #T_812dc_row4_col11 {\n",
              "  text-align: center;\n",
              "}\n",
              "</style>\n",
              "<table id=\"T_812dc\" class=\"dataframe\">\n",
              "  <thead>\n",
              "    <tr>\n",
              "      <th class=\"blank level0\" >&nbsp;</th>\n",
              "      <th id=\"T_812dc_level0_col0\" class=\"col_heading level0 col0\" >PassengerId</th>\n",
              "      <th id=\"T_812dc_level0_col1\" class=\"col_heading level0 col1\" >Survived</th>\n",
              "      <th id=\"T_812dc_level0_col2\" class=\"col_heading level0 col2\" >Pclass</th>\n",
              "      <th id=\"T_812dc_level0_col3\" class=\"col_heading level0 col3\" >Name</th>\n",
              "      <th id=\"T_812dc_level0_col4\" class=\"col_heading level0 col4\" >Sex</th>\n",
              "      <th id=\"T_812dc_level0_col5\" class=\"col_heading level0 col5\" >Age</th>\n",
              "      <th id=\"T_812dc_level0_col6\" class=\"col_heading level0 col6\" >SibSp</th>\n",
              "      <th id=\"T_812dc_level0_col7\" class=\"col_heading level0 col7\" >Parch</th>\n",
              "      <th id=\"T_812dc_level0_col8\" class=\"col_heading level0 col8\" >Ticket</th>\n",
              "      <th id=\"T_812dc_level0_col9\" class=\"col_heading level0 col9\" >Fare</th>\n",
              "      <th id=\"T_812dc_level0_col10\" class=\"col_heading level0 col10\" >Cabin</th>\n",
              "      <th id=\"T_812dc_level0_col11\" class=\"col_heading level0 col11\" >Embarked</th>\n",
              "    </tr>\n",
              "  </thead>\n",
              "  <tbody>\n",
              "    <tr>\n",
              "      <th id=\"T_812dc_level0_row0\" class=\"row_heading level0 row0\" >0</th>\n",
              "      <td id=\"T_812dc_row0_col0\" class=\"data row0 col0\" >1</td>\n",
              "      <td id=\"T_812dc_row0_col1\" class=\"data row0 col1\" >0</td>\n",
              "      <td id=\"T_812dc_row0_col2\" class=\"data row0 col2\" >3</td>\n",
              "      <td id=\"T_812dc_row0_col3\" class=\"data row0 col3\" >Braund, Mr. Owen Harris</td>\n",
              "      <td id=\"T_812dc_row0_col4\" class=\"data row0 col4\" >male</td>\n",
              "      <td id=\"T_812dc_row0_col5\" class=\"data row0 col5\" >22.000000</td>\n",
              "      <td id=\"T_812dc_row0_col6\" class=\"data row0 col6\" >1</td>\n",
              "      <td id=\"T_812dc_row0_col7\" class=\"data row0 col7\" >0</td>\n",
              "      <td id=\"T_812dc_row0_col8\" class=\"data row0 col8\" >A/5 21171</td>\n",
              "      <td id=\"T_812dc_row0_col9\" class=\"data row0 col9\" >7.250000</td>\n",
              "      <td id=\"T_812dc_row0_col10\" class=\"data row0 col10\" >nan</td>\n",
              "      <td id=\"T_812dc_row0_col11\" class=\"data row0 col11\" >S</td>\n",
              "    </tr>\n",
              "    <tr>\n",
              "      <th id=\"T_812dc_level0_row1\" class=\"row_heading level0 row1\" >1</th>\n",
              "      <td id=\"T_812dc_row1_col0\" class=\"data row1 col0\" >2</td>\n",
              "      <td id=\"T_812dc_row1_col1\" class=\"data row1 col1\" >1</td>\n",
              "      <td id=\"T_812dc_row1_col2\" class=\"data row1 col2\" >1</td>\n",
              "      <td id=\"T_812dc_row1_col3\" class=\"data row1 col3\" >Cumings, Mrs. John Bradley (Florence Briggs Thayer)</td>\n",
              "      <td id=\"T_812dc_row1_col4\" class=\"data row1 col4\" >female</td>\n",
              "      <td id=\"T_812dc_row1_col5\" class=\"data row1 col5\" >38.000000</td>\n",
              "      <td id=\"T_812dc_row1_col6\" class=\"data row1 col6\" >1</td>\n",
              "      <td id=\"T_812dc_row1_col7\" class=\"data row1 col7\" >0</td>\n",
              "      <td id=\"T_812dc_row1_col8\" class=\"data row1 col8\" >PC 17599</td>\n",
              "      <td id=\"T_812dc_row1_col9\" class=\"data row1 col9\" >71.283300</td>\n",
              "      <td id=\"T_812dc_row1_col10\" class=\"data row1 col10\" >C85</td>\n",
              "      <td id=\"T_812dc_row1_col11\" class=\"data row1 col11\" >C</td>\n",
              "    </tr>\n",
              "    <tr>\n",
              "      <th id=\"T_812dc_level0_row2\" class=\"row_heading level0 row2\" >2</th>\n",
              "      <td id=\"T_812dc_row2_col0\" class=\"data row2 col0\" >3</td>\n",
              "      <td id=\"T_812dc_row2_col1\" class=\"data row2 col1\" >1</td>\n",
              "      <td id=\"T_812dc_row2_col2\" class=\"data row2 col2\" >3</td>\n",
              "      <td id=\"T_812dc_row2_col3\" class=\"data row2 col3\" >Heikkinen, Miss. Laina</td>\n",
              "      <td id=\"T_812dc_row2_col4\" class=\"data row2 col4\" >female</td>\n",
              "      <td id=\"T_812dc_row2_col5\" class=\"data row2 col5\" >26.000000</td>\n",
              "      <td id=\"T_812dc_row2_col6\" class=\"data row2 col6\" >0</td>\n",
              "      <td id=\"T_812dc_row2_col7\" class=\"data row2 col7\" >0</td>\n",
              "      <td id=\"T_812dc_row2_col8\" class=\"data row2 col8\" >STON/O2. 3101282</td>\n",
              "      <td id=\"T_812dc_row2_col9\" class=\"data row2 col9\" >7.925000</td>\n",
              "      <td id=\"T_812dc_row2_col10\" class=\"data row2 col10\" >nan</td>\n",
              "      <td id=\"T_812dc_row2_col11\" class=\"data row2 col11\" >S</td>\n",
              "    </tr>\n",
              "    <tr>\n",
              "      <th id=\"T_812dc_level0_row3\" class=\"row_heading level0 row3\" >3</th>\n",
              "      <td id=\"T_812dc_row3_col0\" class=\"data row3 col0\" >4</td>\n",
              "      <td id=\"T_812dc_row3_col1\" class=\"data row3 col1\" >1</td>\n",
              "      <td id=\"T_812dc_row3_col2\" class=\"data row3 col2\" >1</td>\n",
              "      <td id=\"T_812dc_row3_col3\" class=\"data row3 col3\" >Futrelle, Mrs. Jacques Heath (Lily May Peel)</td>\n",
              "      <td id=\"T_812dc_row3_col4\" class=\"data row3 col4\" >female</td>\n",
              "      <td id=\"T_812dc_row3_col5\" class=\"data row3 col5\" >35.000000</td>\n",
              "      <td id=\"T_812dc_row3_col6\" class=\"data row3 col6\" >1</td>\n",
              "      <td id=\"T_812dc_row3_col7\" class=\"data row3 col7\" >0</td>\n",
              "      <td id=\"T_812dc_row3_col8\" class=\"data row3 col8\" >113803</td>\n",
              "      <td id=\"T_812dc_row3_col9\" class=\"data row3 col9\" >53.100000</td>\n",
              "      <td id=\"T_812dc_row3_col10\" class=\"data row3 col10\" >C123</td>\n",
              "      <td id=\"T_812dc_row3_col11\" class=\"data row3 col11\" >S</td>\n",
              "    </tr>\n",
              "    <tr>\n",
              "      <th id=\"T_812dc_level0_row4\" class=\"row_heading level0 row4\" >4</th>\n",
              "      <td id=\"T_812dc_row4_col0\" class=\"data row4 col0\" >5</td>\n",
              "      <td id=\"T_812dc_row4_col1\" class=\"data row4 col1\" >0</td>\n",
              "      <td id=\"T_812dc_row4_col2\" class=\"data row4 col2\" >3</td>\n",
              "      <td id=\"T_812dc_row4_col3\" class=\"data row4 col3\" >Allen, Mr. William Henry</td>\n",
              "      <td id=\"T_812dc_row4_col4\" class=\"data row4 col4\" >male</td>\n",
              "      <td id=\"T_812dc_row4_col5\" class=\"data row4 col5\" >35.000000</td>\n",
              "      <td id=\"T_812dc_row4_col6\" class=\"data row4 col6\" >0</td>\n",
              "      <td id=\"T_812dc_row4_col7\" class=\"data row4 col7\" >0</td>\n",
              "      <td id=\"T_812dc_row4_col8\" class=\"data row4 col8\" >373450</td>\n",
              "      <td id=\"T_812dc_row4_col9\" class=\"data row4 col9\" >8.050000</td>\n",
              "      <td id=\"T_812dc_row4_col10\" class=\"data row4 col10\" >nan</td>\n",
              "      <td id=\"T_812dc_row4_col11\" class=\"data row4 col11\" >S</td>\n",
              "    </tr>\n",
              "  </tbody>\n",
              "</table>\n"
            ]
          },
          "metadata": {}
        }
      ]
    },
    {
      "cell_type": "markdown",
      "source": [
        "<h2 style=\"color:#117A65;\">🔹 Step 3: Check Missing Values</h2>\n"
      ],
      "metadata": {
        "id": "kUzRg4JD1h-U"
      }
    },
    {
      "cell_type": "code",
      "source": [
        "missing = df.isnull().sum()\n",
        "missing = missing[missing > 0]\n",
        "\n",
        "styled_missing = missing.to_frame(\"Missing Values\").style.set_table_styles(\n",
        "    [{'selector': 'th', 'props': [('background-color', '#F5B7B1'),\n",
        "                                  ('color', 'black'),\n",
        "                                  ('border', '1px solid black'),\n",
        "                                  ('padding', '8px'),\n",
        "                                  ('font-weight', 'bold')]},\n",
        "     {'selector': 'td', 'props': [('border', '1px solid black'),\n",
        "                                  ('padding', '8px')]}]\n",
        ")\n",
        "\n",
        "display(styled_missing)\n"
      ],
      "metadata": {
        "colab": {
          "base_uri": "https://localhost:8080/",
          "height": 155
        },
        "id": "kTAoH8Dv1Oi-",
        "outputId": "f5730d00-527b-4dc9-e42f-465f611878a8"
      },
      "execution_count": 4,
      "outputs": [
        {
          "output_type": "display_data",
          "data": {
            "text/plain": [
              "<pandas.io.formats.style.Styler at 0x7d04b0b0a720>"
            ],
            "text/html": [
              "<style type=\"text/css\">\n",
              "#T_8bd25 th {\n",
              "  background-color: #F5B7B1;\n",
              "  color: black;\n",
              "  border: 1px solid black;\n",
              "  padding: 8px;\n",
              "  font-weight: bold;\n",
              "}\n",
              "#T_8bd25 td {\n",
              "  border: 1px solid black;\n",
              "  padding: 8px;\n",
              "}\n",
              "</style>\n",
              "<table id=\"T_8bd25\" class=\"dataframe\">\n",
              "  <thead>\n",
              "    <tr>\n",
              "      <th class=\"blank level0\" >&nbsp;</th>\n",
              "      <th id=\"T_8bd25_level0_col0\" class=\"col_heading level0 col0\" >Missing Values</th>\n",
              "    </tr>\n",
              "  </thead>\n",
              "  <tbody>\n",
              "    <tr>\n",
              "      <th id=\"T_8bd25_level0_row0\" class=\"row_heading level0 row0\" >Age</th>\n",
              "      <td id=\"T_8bd25_row0_col0\" class=\"data row0 col0\" >177</td>\n",
              "    </tr>\n",
              "    <tr>\n",
              "      <th id=\"T_8bd25_level0_row1\" class=\"row_heading level0 row1\" >Cabin</th>\n",
              "      <td id=\"T_8bd25_row1_col0\" class=\"data row1 col0\" >687</td>\n",
              "    </tr>\n",
              "    <tr>\n",
              "      <th id=\"T_8bd25_level0_row2\" class=\"row_heading level0 row2\" >Embarked</th>\n",
              "      <td id=\"T_8bd25_row2_col0\" class=\"data row2 col0\" >2</td>\n",
              "    </tr>\n",
              "  </tbody>\n",
              "</table>\n"
            ]
          },
          "metadata": {}
        }
      ]
    },
    {
      "cell_type": "markdown",
      "source": [
        "<h2 style=\"color:#117A65;\">🔹 Step 4: Handle Missing Values</h2>"
      ],
      "metadata": {
        "id": "HFnzSQD61Ual"
      }
    },
    {
      "cell_type": "code",
      "source": [
        "# Fill missing 'Age' with median\n",
        "df['Age'].fillna(df['Age'].median(), inplace=True)\n",
        "\n",
        "# Fill missing 'Embarked' with mode\n",
        "df['Embarked'].fillna(df['Embarked'].mode()[0], inplace=True)\n",
        "\n",
        "# Drop 'Cabin' column (too many missing)\n",
        "df.drop(columns=['Cabin'], inplace=True)\n",
        "\n",
        "print(\"\\033[1;34mMissing values handled successfully!\\033[0m\")\n"
      ],
      "metadata": {
        "colab": {
          "base_uri": "https://localhost:8080/"
        },
        "id": "fHiNHGxw1ufi",
        "outputId": "3163ecb0-1408-4450-f5ee-d4a4090c5252"
      },
      "execution_count": 5,
      "outputs": [
        {
          "output_type": "stream",
          "name": "stdout",
          "text": [
            "\u001b[1;34mMissing values handled successfully!\u001b[0m\n"
          ]
        },
        {
          "output_type": "stream",
          "name": "stderr",
          "text": [
            "/tmp/ipython-input-2808779047.py:2: FutureWarning: A value is trying to be set on a copy of a DataFrame or Series through chained assignment using an inplace method.\n",
            "The behavior will change in pandas 3.0. This inplace method will never work because the intermediate object on which we are setting values always behaves as a copy.\n",
            "\n",
            "For example, when doing 'df[col].method(value, inplace=True)', try using 'df.method({col: value}, inplace=True)' or df[col] = df[col].method(value) instead, to perform the operation inplace on the original object.\n",
            "\n",
            "\n",
            "  df['Age'].fillna(df['Age'].median(), inplace=True)\n",
            "/tmp/ipython-input-2808779047.py:5: FutureWarning: A value is trying to be set on a copy of a DataFrame or Series through chained assignment using an inplace method.\n",
            "The behavior will change in pandas 3.0. This inplace method will never work because the intermediate object on which we are setting values always behaves as a copy.\n",
            "\n",
            "For example, when doing 'df[col].method(value, inplace=True)', try using 'df.method({col: value}, inplace=True)' or df[col] = df[col].method(value) instead, to perform the operation inplace on the original object.\n",
            "\n",
            "\n",
            "  df['Embarked'].fillna(df['Embarked'].mode()[0], inplace=True)\n"
          ]
        }
      ]
    },
    {
      "cell_type": "markdown",
      "source": [
        "<h2 style=\"color:#117A65;\">🔹 Step 5: Check for Duplicates</h2>"
      ],
      "metadata": {
        "id": "rgHKhtCL1xbH"
      }
    },
    {
      "cell_type": "code",
      "source": [
        "duplicates = df.duplicated().sum()\n",
        "print(f\"\\033[1;34mTotal Duplicates: {duplicates}\\033[0m\")\n",
        "\n",
        "\n",
        "df.drop_duplicates(inplace=True)\n",
        "print(\"\\033[1;34m  Duplicates removed!\\033[0m\")\n"
      ],
      "metadata": {
        "colab": {
          "base_uri": "https://localhost:8080/"
        },
        "id": "_2x9UInw1wqq",
        "outputId": "34a3d8f7-268e-4030-8d91-52ef3b4976b2"
      },
      "execution_count": 6,
      "outputs": [
        {
          "output_type": "stream",
          "name": "stdout",
          "text": [
            "\u001b[1;34mTotal Duplicates: 0\u001b[0m\n",
            "\u001b[1;34m  Duplicates removed!\u001b[0m\n"
          ]
        }
      ]
    },
    {
      "cell_type": "markdown",
      "source": [
        "<h2 style=\"color:#117A65;\">🔹 Step 6: Encode Categorical Columns</h2>\n"
      ],
      "metadata": {
        "id": "oWZ1HOi114EZ"
      }
    },
    {
      "cell_type": "code",
      "source": [
        "# Label Encoding for \"Sex\"\n",
        "df['Sex'] = df['Sex'].map({'male': 0, 'female': 1})\n",
        "\n",
        "# One-hot Encoding for \"Embarked\"\n",
        "df = pd.get_dummies(df, columns=['Embarked'], drop_first=True)\n",
        "\n",
        "print(\"\\033[1;34m Categorical values converted to numeric!\\033[0m\")\n"
      ],
      "metadata": {
        "colab": {
          "base_uri": "https://localhost:8080/"
        },
        "id": "P5GUc5KM11N2",
        "outputId": "887f48a3-4283-41dd-91c0-96aee1876c9a"
      },
      "execution_count": 7,
      "outputs": [
        {
          "output_type": "stream",
          "name": "stdout",
          "text": [
            "\u001b[1;34m Categorical values converted to numeric!\u001b[0m\n"
          ]
        }
      ]
    },
    {
      "cell_type": "markdown",
      "source": [
        "<h2 style=\"color:#117A65;\">🔹 Step 7: Preview Cleaned Dataset</h2>"
      ],
      "metadata": {
        "id": "kNtaTIyR94DN"
      }
    },
    {
      "cell_type": "code",
      "source": [
        "display(style_table(df.head()))\n"
      ],
      "metadata": {
        "colab": {
          "base_uri": "https://localhost:8080/",
          "height": 521
        },
        "id": "2e31hpoX17bt",
        "outputId": "64fe4125-5c57-491e-9e92-ecd89aece8c1"
      },
      "execution_count": 8,
      "outputs": [
        {
          "output_type": "display_data",
          "data": {
            "text/plain": [
              "<pandas.io.formats.style.Styler at 0x7d04ac558770>"
            ],
            "text/html": [
              "<style type=\"text/css\">\n",
              "#T_8a4a0 th {\n",
              "  background-color: #20B2AA;\n",
              "  color: white;\n",
              "  border: 1px solid black;\n",
              "  padding: 8px;\n",
              "  font-weight: bold;\n",
              "}\n",
              "#T_8a4a0 td {\n",
              "  border: 1px solid black;\n",
              "  padding: 8px;\n",
              "}\n",
              "#T_8a4a0_row0_col0, #T_8a4a0_row0_col1, #T_8a4a0_row0_col2, #T_8a4a0_row0_col3, #T_8a4a0_row0_col4, #T_8a4a0_row0_col5, #T_8a4a0_row0_col6, #T_8a4a0_row0_col7, #T_8a4a0_row0_col8, #T_8a4a0_row0_col9, #T_8a4a0_row0_col10, #T_8a4a0_row0_col11, #T_8a4a0_row1_col0, #T_8a4a0_row1_col1, #T_8a4a0_row1_col2, #T_8a4a0_row1_col3, #T_8a4a0_row1_col4, #T_8a4a0_row1_col5, #T_8a4a0_row1_col6, #T_8a4a0_row1_col7, #T_8a4a0_row1_col8, #T_8a4a0_row1_col9, #T_8a4a0_row1_col10, #T_8a4a0_row1_col11, #T_8a4a0_row2_col0, #T_8a4a0_row2_col1, #T_8a4a0_row2_col2, #T_8a4a0_row2_col3, #T_8a4a0_row2_col4, #T_8a4a0_row2_col5, #T_8a4a0_row2_col6, #T_8a4a0_row2_col7, #T_8a4a0_row2_col8, #T_8a4a0_row2_col9, #T_8a4a0_row2_col10, #T_8a4a0_row2_col11, #T_8a4a0_row3_col0, #T_8a4a0_row3_col1, #T_8a4a0_row3_col2, #T_8a4a0_row3_col3, #T_8a4a0_row3_col4, #T_8a4a0_row3_col5, #T_8a4a0_row3_col6, #T_8a4a0_row3_col7, #T_8a4a0_row3_col8, #T_8a4a0_row3_col9, #T_8a4a0_row3_col10, #T_8a4a0_row3_col11, #T_8a4a0_row4_col0, #T_8a4a0_row4_col1, #T_8a4a0_row4_col2, #T_8a4a0_row4_col3, #T_8a4a0_row4_col4, #T_8a4a0_row4_col5, #T_8a4a0_row4_col6, #T_8a4a0_row4_col7, #T_8a4a0_row4_col8, #T_8a4a0_row4_col9, #T_8a4a0_row4_col10, #T_8a4a0_row4_col11 {\n",
              "  text-align: center;\n",
              "}\n",
              "</style>\n",
              "<table id=\"T_8a4a0\" class=\"dataframe\">\n",
              "  <thead>\n",
              "    <tr>\n",
              "      <th class=\"blank level0\" >&nbsp;</th>\n",
              "      <th id=\"T_8a4a0_level0_col0\" class=\"col_heading level0 col0\" >PassengerId</th>\n",
              "      <th id=\"T_8a4a0_level0_col1\" class=\"col_heading level0 col1\" >Survived</th>\n",
              "      <th id=\"T_8a4a0_level0_col2\" class=\"col_heading level0 col2\" >Pclass</th>\n",
              "      <th id=\"T_8a4a0_level0_col3\" class=\"col_heading level0 col3\" >Name</th>\n",
              "      <th id=\"T_8a4a0_level0_col4\" class=\"col_heading level0 col4\" >Sex</th>\n",
              "      <th id=\"T_8a4a0_level0_col5\" class=\"col_heading level0 col5\" >Age</th>\n",
              "      <th id=\"T_8a4a0_level0_col6\" class=\"col_heading level0 col6\" >SibSp</th>\n",
              "      <th id=\"T_8a4a0_level0_col7\" class=\"col_heading level0 col7\" >Parch</th>\n",
              "      <th id=\"T_8a4a0_level0_col8\" class=\"col_heading level0 col8\" >Ticket</th>\n",
              "      <th id=\"T_8a4a0_level0_col9\" class=\"col_heading level0 col9\" >Fare</th>\n",
              "      <th id=\"T_8a4a0_level0_col10\" class=\"col_heading level0 col10\" >Embarked_Q</th>\n",
              "      <th id=\"T_8a4a0_level0_col11\" class=\"col_heading level0 col11\" >Embarked_S</th>\n",
              "    </tr>\n",
              "  </thead>\n",
              "  <tbody>\n",
              "    <tr>\n",
              "      <th id=\"T_8a4a0_level0_row0\" class=\"row_heading level0 row0\" >0</th>\n",
              "      <td id=\"T_8a4a0_row0_col0\" class=\"data row0 col0\" >1</td>\n",
              "      <td id=\"T_8a4a0_row0_col1\" class=\"data row0 col1\" >0</td>\n",
              "      <td id=\"T_8a4a0_row0_col2\" class=\"data row0 col2\" >3</td>\n",
              "      <td id=\"T_8a4a0_row0_col3\" class=\"data row0 col3\" >Braund, Mr. Owen Harris</td>\n",
              "      <td id=\"T_8a4a0_row0_col4\" class=\"data row0 col4\" >0</td>\n",
              "      <td id=\"T_8a4a0_row0_col5\" class=\"data row0 col5\" >22.000000</td>\n",
              "      <td id=\"T_8a4a0_row0_col6\" class=\"data row0 col6\" >1</td>\n",
              "      <td id=\"T_8a4a0_row0_col7\" class=\"data row0 col7\" >0</td>\n",
              "      <td id=\"T_8a4a0_row0_col8\" class=\"data row0 col8\" >A/5 21171</td>\n",
              "      <td id=\"T_8a4a0_row0_col9\" class=\"data row0 col9\" >7.250000</td>\n",
              "      <td id=\"T_8a4a0_row0_col10\" class=\"data row0 col10\" >False</td>\n",
              "      <td id=\"T_8a4a0_row0_col11\" class=\"data row0 col11\" >True</td>\n",
              "    </tr>\n",
              "    <tr>\n",
              "      <th id=\"T_8a4a0_level0_row1\" class=\"row_heading level0 row1\" >1</th>\n",
              "      <td id=\"T_8a4a0_row1_col0\" class=\"data row1 col0\" >2</td>\n",
              "      <td id=\"T_8a4a0_row1_col1\" class=\"data row1 col1\" >1</td>\n",
              "      <td id=\"T_8a4a0_row1_col2\" class=\"data row1 col2\" >1</td>\n",
              "      <td id=\"T_8a4a0_row1_col3\" class=\"data row1 col3\" >Cumings, Mrs. John Bradley (Florence Briggs Thayer)</td>\n",
              "      <td id=\"T_8a4a0_row1_col4\" class=\"data row1 col4\" >1</td>\n",
              "      <td id=\"T_8a4a0_row1_col5\" class=\"data row1 col5\" >38.000000</td>\n",
              "      <td id=\"T_8a4a0_row1_col6\" class=\"data row1 col6\" >1</td>\n",
              "      <td id=\"T_8a4a0_row1_col7\" class=\"data row1 col7\" >0</td>\n",
              "      <td id=\"T_8a4a0_row1_col8\" class=\"data row1 col8\" >PC 17599</td>\n",
              "      <td id=\"T_8a4a0_row1_col9\" class=\"data row1 col9\" >71.283300</td>\n",
              "      <td id=\"T_8a4a0_row1_col10\" class=\"data row1 col10\" >False</td>\n",
              "      <td id=\"T_8a4a0_row1_col11\" class=\"data row1 col11\" >False</td>\n",
              "    </tr>\n",
              "    <tr>\n",
              "      <th id=\"T_8a4a0_level0_row2\" class=\"row_heading level0 row2\" >2</th>\n",
              "      <td id=\"T_8a4a0_row2_col0\" class=\"data row2 col0\" >3</td>\n",
              "      <td id=\"T_8a4a0_row2_col1\" class=\"data row2 col1\" >1</td>\n",
              "      <td id=\"T_8a4a0_row2_col2\" class=\"data row2 col2\" >3</td>\n",
              "      <td id=\"T_8a4a0_row2_col3\" class=\"data row2 col3\" >Heikkinen, Miss. Laina</td>\n",
              "      <td id=\"T_8a4a0_row2_col4\" class=\"data row2 col4\" >1</td>\n",
              "      <td id=\"T_8a4a0_row2_col5\" class=\"data row2 col5\" >26.000000</td>\n",
              "      <td id=\"T_8a4a0_row2_col6\" class=\"data row2 col6\" >0</td>\n",
              "      <td id=\"T_8a4a0_row2_col7\" class=\"data row2 col7\" >0</td>\n",
              "      <td id=\"T_8a4a0_row2_col8\" class=\"data row2 col8\" >STON/O2. 3101282</td>\n",
              "      <td id=\"T_8a4a0_row2_col9\" class=\"data row2 col9\" >7.925000</td>\n",
              "      <td id=\"T_8a4a0_row2_col10\" class=\"data row2 col10\" >False</td>\n",
              "      <td id=\"T_8a4a0_row2_col11\" class=\"data row2 col11\" >True</td>\n",
              "    </tr>\n",
              "    <tr>\n",
              "      <th id=\"T_8a4a0_level0_row3\" class=\"row_heading level0 row3\" >3</th>\n",
              "      <td id=\"T_8a4a0_row3_col0\" class=\"data row3 col0\" >4</td>\n",
              "      <td id=\"T_8a4a0_row3_col1\" class=\"data row3 col1\" >1</td>\n",
              "      <td id=\"T_8a4a0_row3_col2\" class=\"data row3 col2\" >1</td>\n",
              "      <td id=\"T_8a4a0_row3_col3\" class=\"data row3 col3\" >Futrelle, Mrs. Jacques Heath (Lily May Peel)</td>\n",
              "      <td id=\"T_8a4a0_row3_col4\" class=\"data row3 col4\" >1</td>\n",
              "      <td id=\"T_8a4a0_row3_col5\" class=\"data row3 col5\" >35.000000</td>\n",
              "      <td id=\"T_8a4a0_row3_col6\" class=\"data row3 col6\" >1</td>\n",
              "      <td id=\"T_8a4a0_row3_col7\" class=\"data row3 col7\" >0</td>\n",
              "      <td id=\"T_8a4a0_row3_col8\" class=\"data row3 col8\" >113803</td>\n",
              "      <td id=\"T_8a4a0_row3_col9\" class=\"data row3 col9\" >53.100000</td>\n",
              "      <td id=\"T_8a4a0_row3_col10\" class=\"data row3 col10\" >False</td>\n",
              "      <td id=\"T_8a4a0_row3_col11\" class=\"data row3 col11\" >True</td>\n",
              "    </tr>\n",
              "    <tr>\n",
              "      <th id=\"T_8a4a0_level0_row4\" class=\"row_heading level0 row4\" >4</th>\n",
              "      <td id=\"T_8a4a0_row4_col0\" class=\"data row4 col0\" >5</td>\n",
              "      <td id=\"T_8a4a0_row4_col1\" class=\"data row4 col1\" >0</td>\n",
              "      <td id=\"T_8a4a0_row4_col2\" class=\"data row4 col2\" >3</td>\n",
              "      <td id=\"T_8a4a0_row4_col3\" class=\"data row4 col3\" >Allen, Mr. William Henry</td>\n",
              "      <td id=\"T_8a4a0_row4_col4\" class=\"data row4 col4\" >0</td>\n",
              "      <td id=\"T_8a4a0_row4_col5\" class=\"data row4 col5\" >35.000000</td>\n",
              "      <td id=\"T_8a4a0_row4_col6\" class=\"data row4 col6\" >0</td>\n",
              "      <td id=\"T_8a4a0_row4_col7\" class=\"data row4 col7\" >0</td>\n",
              "      <td id=\"T_8a4a0_row4_col8\" class=\"data row4 col8\" >373450</td>\n",
              "      <td id=\"T_8a4a0_row4_col9\" class=\"data row4 col9\" >8.050000</td>\n",
              "      <td id=\"T_8a4a0_row4_col10\" class=\"data row4 col10\" >False</td>\n",
              "      <td id=\"T_8a4a0_row4_col11\" class=\"data row4 col11\" >True</td>\n",
              "    </tr>\n",
              "  </tbody>\n",
              "</table>\n"
            ]
          },
          "metadata": {}
        }
      ]
    },
    {
      "cell_type": "markdown",
      "source": [
        "<h2 style=\"color:#117A65;\">🔹 Step 8: Summary After Cleaning</h2>"
      ],
      "metadata": {
        "id": "CrnRs47K98Zt"
      }
    },
    {
      "cell_type": "code",
      "source": [
        "from IPython.display import HTML\n",
        "\n",
        "summary_data = {\n",
        "    \"Column Names\": [df.columns.tolist()],\n",
        "    \"Shape\": [df.shape],\n",
        "    \"Data Types\": [df.dtypes.to_dict()]\n",
        "}\n",
        "\n",
        "summary_html = \"\"\"\n",
        "<h3 style=\"color:#117A65;\"> Final Summary After Cleaning</h3>\n",
        "<table style=\"border-collapse:collapse; border:2px solid black; width:80%; text-align:left;\">\n",
        "  <tr style=\"background-color:#20B2AA; color:white; font-weight:bold;\">\n",
        "    <th style=\"padding:8px; border:1px solid black;\">Metric</th>\n",
        "    <th style=\"padding:8px; border:1px solid black;\">Details</th>\n",
        "  </tr>\n",
        "  <tr>\n",
        "    <td style=\"padding:8px; border:1px solid black; font-weight:bold;\">Column Names</td>\n",
        "    <td style=\"padding:8px; border:1px solid black;\">{columns}</td>\n",
        "  </tr>\n",
        "  <tr>\n",
        "    <td style=\"padding:8px; border:1px solid black; font-weight:bold;\">Shape</td>\n",
        "    <td style=\"padding:8px; border:1px solid black;\">{shape}</td>\n",
        "  </tr>\n",
        "  <tr>\n",
        "    <td style=\"padding:8px; border:1px solid black; font-weight:bold;\">Data Types</td>\n",
        "    <td style=\"padding:8px; border:1px solid black;\">{dtypes}</td>\n",
        "  </tr>\n",
        "</table>\n",
        "\"\"\".format(columns=df.columns.tolist(), shape=df.shape, dtypes=df.dtypes.to_dict())\n",
        "\n",
        "display(HTML(summary_html))\n",
        "\n",
        "\n",
        "summary_after = pd.DataFrame({\n",
        "    \"Metric\": [\"Rows\", \"Columns\", \"Missing Values\"],\n",
        "    \"Value\": [df.shape[0], df.shape[1], df.isnull().sum().sum()]\n",
        "})\n",
        "\n",
        "# Style the summary table\n",
        "summary_after.style.set_table_styles(\n",
        "    [\n",
        "        {\"selector\": \"th\",\n",
        "         \"props\": [(\"background-color\", \"#20B2AA\"),\n",
        "                   (\"color\", \"white\"),\n",
        "                   (\"font-weight\", \"bold\"),\n",
        "                   (\"text-align\", \"center\"),\n",
        "                   (\"border\", \"1px solid black\")]},\n",
        "        {\"selector\": \"td\",\n",
        "         \"props\": [(\"border\", \"1px solid black\"),\n",
        "                   (\"padding\", \"6px\"),\n",
        "                   (\"text-align\", \"center\")]}\n",
        "    ]\n",
        ").set_properties(**{\"background-color\": \"#E6F2F0\"})\n"
      ],
      "metadata": {
        "colab": {
          "base_uri": "https://localhost:8080/",
          "height": 397
        },
        "id": "qYAEEexk96Rb",
        "outputId": "ea69da9c-8b1f-431c-d495-4e59a0d30175"
      },
      "execution_count": 9,
      "outputs": [
        {
          "output_type": "display_data",
          "data": {
            "text/plain": [
              "<IPython.core.display.HTML object>"
            ],
            "text/html": [
              "\n",
              "<h3 style=\"color:#117A65;\"> Final Summary After Cleaning</h3>\n",
              "<table style=\"border-collapse:collapse; border:2px solid black; width:80%; text-align:left;\">\n",
              "  <tr style=\"background-color:#20B2AA; color:white; font-weight:bold;\">\n",
              "    <th style=\"padding:8px; border:1px solid black;\">Metric</th>\n",
              "    <th style=\"padding:8px; border:1px solid black;\">Details</th>\n",
              "  </tr>\n",
              "  <tr>\n",
              "    <td style=\"padding:8px; border:1px solid black; font-weight:bold;\">Column Names</td>\n",
              "    <td style=\"padding:8px; border:1px solid black;\">['PassengerId', 'Survived', 'Pclass', 'Name', 'Sex', 'Age', 'SibSp', 'Parch', 'Ticket', 'Fare', 'Embarked_Q', 'Embarked_S']</td>\n",
              "  </tr>\n",
              "  <tr>\n",
              "    <td style=\"padding:8px; border:1px solid black; font-weight:bold;\">Shape</td>\n",
              "    <td style=\"padding:8px; border:1px solid black;\">(891, 12)</td>\n",
              "  </tr>\n",
              "  <tr>\n",
              "    <td style=\"padding:8px; border:1px solid black; font-weight:bold;\">Data Types</td>\n",
              "    <td style=\"padding:8px; border:1px solid black;\">{'PassengerId': dtype('int64'), 'Survived': dtype('int64'), 'Pclass': dtype('int64'), 'Name': dtype('O'), 'Sex': dtype('int64'), 'Age': dtype('float64'), 'SibSp': dtype('int64'), 'Parch': dtype('int64'), 'Ticket': dtype('O'), 'Fare': dtype('float64'), 'Embarked_Q': dtype('bool'), 'Embarked_S': dtype('bool')}</td>\n",
              "  </tr>\n",
              "</table>\n"
            ]
          },
          "metadata": {}
        },
        {
          "output_type": "execute_result",
          "data": {
            "text/plain": [
              "<pandas.io.formats.style.Styler at 0x7d04c1dc9af0>"
            ],
            "text/html": [
              "<style type=\"text/css\">\n",
              "#T_b0493 th {\n",
              "  background-color: #20B2AA;\n",
              "  color: white;\n",
              "  font-weight: bold;\n",
              "  text-align: center;\n",
              "  border: 1px solid black;\n",
              "}\n",
              "#T_b0493 td {\n",
              "  border: 1px solid black;\n",
              "  padding: 6px;\n",
              "  text-align: center;\n",
              "}\n",
              "#T_b0493_row0_col0, #T_b0493_row0_col1, #T_b0493_row1_col0, #T_b0493_row1_col1, #T_b0493_row2_col0, #T_b0493_row2_col1 {\n",
              "  background-color: #E6F2F0;\n",
              "}\n",
              "</style>\n",
              "<table id=\"T_b0493\" class=\"dataframe\">\n",
              "  <thead>\n",
              "    <tr>\n",
              "      <th class=\"blank level0\" >&nbsp;</th>\n",
              "      <th id=\"T_b0493_level0_col0\" class=\"col_heading level0 col0\" >Metric</th>\n",
              "      <th id=\"T_b0493_level0_col1\" class=\"col_heading level0 col1\" >Value</th>\n",
              "    </tr>\n",
              "  </thead>\n",
              "  <tbody>\n",
              "    <tr>\n",
              "      <th id=\"T_b0493_level0_row0\" class=\"row_heading level0 row0\" >0</th>\n",
              "      <td id=\"T_b0493_row0_col0\" class=\"data row0 col0\" >Rows</td>\n",
              "      <td id=\"T_b0493_row0_col1\" class=\"data row0 col1\" >891</td>\n",
              "    </tr>\n",
              "    <tr>\n",
              "      <th id=\"T_b0493_level0_row1\" class=\"row_heading level0 row1\" >1</th>\n",
              "      <td id=\"T_b0493_row1_col0\" class=\"data row1 col0\" >Columns</td>\n",
              "      <td id=\"T_b0493_row1_col1\" class=\"data row1 col1\" >12</td>\n",
              "    </tr>\n",
              "    <tr>\n",
              "      <th id=\"T_b0493_level0_row2\" class=\"row_heading level0 row2\" >2</th>\n",
              "      <td id=\"T_b0493_row2_col0\" class=\"data row2 col0\" >Missing Values</td>\n",
              "      <td id=\"T_b0493_row2_col1\" class=\"data row2 col1\" >0</td>\n",
              "    </tr>\n",
              "  </tbody>\n",
              "</table>\n"
            ]
          },
          "metadata": {},
          "execution_count": 9
        }
      ]
    },
    {
      "cell_type": "code",
      "source": [
        "# 🔹 Step 8: Final Summary After Cleaning\n",
        "from IPython.display import HTML\n",
        "\n",
        "# --- Numeric Summary ---\n",
        "summary_after = pd.DataFrame({\n",
        "    \"Metric\": [\"Rows\", \"Columns\", \"Missing Values\"],\n",
        "    \"Value\": [df.shape[0], df.shape[1], df.isnull().sum().sum()]\n",
        "})\n",
        "\n",
        "styled_numeric = summary_after.style.set_table_styles(\n",
        "    [\n",
        "        {\"selector\": \"th\",\n",
        "         \"props\": [(\"background-color\", \"#20B2AA\"),\n",
        "                   (\"color\", \"white\"),\n",
        "                   (\"font-weight\", \"bold\"),\n",
        "                   (\"text-align\", \"center\"),\n",
        "                   (\"border\", \"1px solid black\")]},\n",
        "        {\"selector\": \"td\",\n",
        "         \"props\": [(\"border\", \"1px solid black\"),\n",
        "                   (\"padding\", \"6px\"),\n",
        "                   (\"text-align\", \"center\")]}\n",
        "    ]\n",
        ").set_properties(**{\"background-color\": \"#E6F2F0\"})\n",
        "\n",
        "display(HTML(\"<h3 style='color:#117A65;'> Numeric Summary</h3>\"))\n",
        "display(styled_numeric)\n",
        "\n",
        "# --- Detailed Dataset Summary ---\n",
        "summary_html = \"\"\"\n",
        "<h3 style=\"color:#117A65;\"> Detailed Dataset Summary</h3>\n",
        "<table style=\"border-collapse:collapse; border:2px solid black; width:90%; text-align:left;\">\n",
        "  <tr style=\"background-color:#20B2AA; color:white; font-weight:bold;\">\n",
        "    <th style=\"padding:8px; border:1px solid black;\">Metric</th>\n",
        "    <th style=\"padding:8px; border:1px solid black;\">Details</th>\n",
        "  </tr>\n",
        "  <tr>\n",
        "    <td style=\"padding:8px; border:1px solid black; font-weight:bold;\">Column Names</td>\n",
        "    <td style=\"padding:8px; border:1px solid black;\">{columns}</td>\n",
        "  </tr>\n",
        "  <tr>\n",
        "    <td style=\"padding:8px; border:1px solid black; font-weight:bold;\">Shape</td>\n",
        "    <td style=\"padding:8px; border:1px solid black;\">{shape}</td>\n",
        "  </tr>\n",
        "  <tr>\n",
        "    <td style=\"padding:8px; border:1px solid black; font-weight:bold;\">Data Types</td>\n",
        "    <td style=\"padding:8px; border:1px solid black;\">{dtypes}</td>\n",
        "  </tr>\n",
        "</table>\n",
        "\"\"\".format(columns=df.columns.tolist(), shape=df.shape, dtypes=df.dtypes.to_dict())\n",
        "\n",
        "display(HTML(summary_html))\n"
      ],
      "metadata": {
        "colab": {
          "base_uri": "https://localhost:8080/",
          "height": 420
        },
        "id": "VtGEyWxu_CNz",
        "outputId": "01c2e903-40f7-4844-f3cd-856f610491d4"
      },
      "execution_count": 11,
      "outputs": [
        {
          "output_type": "display_data",
          "data": {
            "text/plain": [
              "<IPython.core.display.HTML object>"
            ],
            "text/html": [
              "<h3 style='color:#117A65;'> Numeric Summary</h3>"
            ]
          },
          "metadata": {}
        },
        {
          "output_type": "display_data",
          "data": {
            "text/plain": [
              "<pandas.io.formats.style.Styler at 0x7d04ac55e4b0>"
            ],
            "text/html": [
              "<style type=\"text/css\">\n",
              "#T_d7434 th {\n",
              "  background-color: #20B2AA;\n",
              "  color: white;\n",
              "  font-weight: bold;\n",
              "  text-align: center;\n",
              "  border: 1px solid black;\n",
              "}\n",
              "#T_d7434 td {\n",
              "  border: 1px solid black;\n",
              "  padding: 6px;\n",
              "  text-align: center;\n",
              "}\n",
              "#T_d7434_row0_col0, #T_d7434_row0_col1, #T_d7434_row1_col0, #T_d7434_row1_col1, #T_d7434_row2_col0, #T_d7434_row2_col1 {\n",
              "  background-color: #E6F2F0;\n",
              "}\n",
              "</style>\n",
              "<table id=\"T_d7434\" class=\"dataframe\">\n",
              "  <thead>\n",
              "    <tr>\n",
              "      <th class=\"blank level0\" >&nbsp;</th>\n",
              "      <th id=\"T_d7434_level0_col0\" class=\"col_heading level0 col0\" >Metric</th>\n",
              "      <th id=\"T_d7434_level0_col1\" class=\"col_heading level0 col1\" >Value</th>\n",
              "    </tr>\n",
              "  </thead>\n",
              "  <tbody>\n",
              "    <tr>\n",
              "      <th id=\"T_d7434_level0_row0\" class=\"row_heading level0 row0\" >0</th>\n",
              "      <td id=\"T_d7434_row0_col0\" class=\"data row0 col0\" >Rows</td>\n",
              "      <td id=\"T_d7434_row0_col1\" class=\"data row0 col1\" >891</td>\n",
              "    </tr>\n",
              "    <tr>\n",
              "      <th id=\"T_d7434_level0_row1\" class=\"row_heading level0 row1\" >1</th>\n",
              "      <td id=\"T_d7434_row1_col0\" class=\"data row1 col0\" >Columns</td>\n",
              "      <td id=\"T_d7434_row1_col1\" class=\"data row1 col1\" >12</td>\n",
              "    </tr>\n",
              "    <tr>\n",
              "      <th id=\"T_d7434_level0_row2\" class=\"row_heading level0 row2\" >2</th>\n",
              "      <td id=\"T_d7434_row2_col0\" class=\"data row2 col0\" >Missing Values</td>\n",
              "      <td id=\"T_d7434_row2_col1\" class=\"data row2 col1\" >0</td>\n",
              "    </tr>\n",
              "  </tbody>\n",
              "</table>\n"
            ]
          },
          "metadata": {}
        },
        {
          "output_type": "display_data",
          "data": {
            "text/plain": [
              "<IPython.core.display.HTML object>"
            ],
            "text/html": [
              "\n",
              "<h3 style=\"color:#117A65;\"> Detailed Dataset Summary</h3>\n",
              "<table style=\"border-collapse:collapse; border:2px solid black; width:90%; text-align:left;\">\n",
              "  <tr style=\"background-color:#20B2AA; color:white; font-weight:bold;\">\n",
              "    <th style=\"padding:8px; border:1px solid black;\">Metric</th>\n",
              "    <th style=\"padding:8px; border:1px solid black;\">Details</th>\n",
              "  </tr>\n",
              "  <tr>\n",
              "    <td style=\"padding:8px; border:1px solid black; font-weight:bold;\">Column Names</td>\n",
              "    <td style=\"padding:8px; border:1px solid black;\">['PassengerId', 'Survived', 'Pclass', 'Name', 'Sex', 'Age', 'SibSp', 'Parch', 'Ticket', 'Fare', 'Embarked_Q', 'Embarked_S']</td>\n",
              "  </tr>\n",
              "  <tr>\n",
              "    <td style=\"padding:8px; border:1px solid black; font-weight:bold;\">Shape</td>\n",
              "    <td style=\"padding:8px; border:1px solid black;\">(891, 12)</td>\n",
              "  </tr>\n",
              "  <tr>\n",
              "    <td style=\"padding:8px; border:1px solid black; font-weight:bold;\">Data Types</td>\n",
              "    <td style=\"padding:8px; border:1px solid black;\">{'PassengerId': dtype('int64'), 'Survived': dtype('int64'), 'Pclass': dtype('int64'), 'Name': dtype('O'), 'Sex': dtype('int64'), 'Age': dtype('float64'), 'SibSp': dtype('int64'), 'Parch': dtype('int64'), 'Ticket': dtype('O'), 'Fare': dtype('float64'), 'Embarked_Q': dtype('bool'), 'Embarked_S': dtype('bool')}</td>\n",
              "  </tr>\n",
              "</table>\n"
            ]
          },
          "metadata": {}
        }
      ]
    },
    {
      "cell_type": "code",
      "source": [
        "# Step 9: Export the Cleaned Dataset\n",
        "# -----------------------------------\n",
        "df.to_csv(\"titanic_cleaned.csv\", index=False)\n",
        "\n",
        "from IPython.display import HTML\n",
        "\n",
        "export_html = \"\"\"\n",
        "<h3 style=\"color:#117A65;\">✅ Cleaned Dataset Exported</h3>\n",
        "<p style=\"font-size:14px;\">The cleaned Titanic dataset has been successfully exported as\n",
        "<strong><code>titanic_cleaned.csv</code></strong> and is ready for further analysis or modeling.</p>\n",
        "\"\"\"\n",
        "\n",
        "display(HTML(export_html))\n"
      ],
      "metadata": {
        "colab": {
          "base_uri": "https://localhost:8080/",
          "height": 101
        },
        "id": "PBY3tK4UCOmO",
        "outputId": "a22d5bfc-5d1a-42ee-c9de-455e52ba1e1a"
      },
      "execution_count": 12,
      "outputs": [
        {
          "output_type": "display_data",
          "data": {
            "text/plain": [
              "<IPython.core.display.HTML object>"
            ],
            "text/html": [
              "\n",
              "<h3 style=\"color:#117A65;\">✅ Cleaned Dataset Exported</h3>\n",
              "<p style=\"font-size:14px;\">The cleaned Titanic dataset has been successfully exported as \n",
              "<strong><code>titanic_cleaned.csv</code></strong> and is ready for further analysis or modeling.</p>\n"
            ]
          },
          "metadata": {}
        }
      ]
    },
    {
      "cell_type": "markdown",
      "source": [
        "<h3 style=\"color:#117A65;\"> 🔹Export Cleaned Dataset </h3>\n"
      ],
      "metadata": {
        "id": "fg1eMz3ACzH8"
      }
    },
    {
      "cell_type": "code",
      "source": [
        "df.to_csv(\"titanic_cleaned.csv\", index=False)\n",
        "\n",
        "print(\" Cleaned dataset exported as 'titanic_cleaned.csv'. Ready for further analysis or modeling.\")\n"
      ],
      "metadata": {
        "colab": {
          "base_uri": "https://localhost:8080/"
        },
        "id": "OWbQNK_dCrwb",
        "outputId": "30cd7849-345a-4cb8-ebd1-5e389259dc53"
      },
      "execution_count": 14,
      "outputs": [
        {
          "output_type": "stream",
          "name": "stdout",
          "text": [
            " Cleaned dataset exported as 'titanic_cleaned.csv'. Ready for further analysis or modeling.\n"
          ]
        }
      ]
    },
    {
      "cell_type": "code",
      "source": [],
      "metadata": {
        "id": "4izA_gS7DEcQ"
      },
      "execution_count": null,
      "outputs": []
    }
  ]
}